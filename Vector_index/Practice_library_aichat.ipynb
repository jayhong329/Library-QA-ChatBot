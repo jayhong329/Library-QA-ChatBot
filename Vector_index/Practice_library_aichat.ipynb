{
 "cells": [
  {
   "cell_type": "code",
   "execution_count": 4,
   "metadata": {},
   "outputs": [
    {
     "name": "stdout",
     "output_type": "stream",
     "text": [
      "目前工作目錄: c:\\Users\\User\\Desktop\\WebScraping-TaipeiLibrary\\Vector_index\n",
      "檔案存在！\n"
     ]
    }
   ],
   "source": [
    "import os\n",
    "\n",
    "cwd = os.getcwd()\n",
    "print(\"目前工作目錄:\", cwd)\n",
    "\n",
    "file_path = os.path.join(cwd, \"vector_model4.index\")\n",
    "\n",
    "if os.path.exists(file_path):\n",
    "    print(\"檔案存在！\")\n",
    "else:\n",
    "    print(\"檔案不存在，請確認路徑正確！\")"
   ]
  },
  {
   "cell_type": "code",
   "execution_count": 5,
   "metadata": {},
   "outputs": [
    {
     "name": "stderr",
     "output_type": "stream",
     "text": [
      "c:\\Users\\User\\anaconda3\\envs\\web_scraping\\lib\\site-packages\\tqdm\\auto.py:21: TqdmWarning: IProgress not found. Please update jupyter and ipywidgets. See https://ipywidgets.readthedocs.io/en/stable/user_install.html\n",
      "  from .autonotebook import tqdm as notebook_tqdm\n"
     ]
    },
    {
     "name": "stdout",
     "output_type": "stream",
     "text": [
      "<openai.OpenAI object at 0x000001F3DA80F6D0>\n"
     ]
    }
   ],
   "source": [
    "## 設定 OpenAI API Key 變數\n",
    "from dotenv import load_dotenv\n",
    "import os\n",
    "from openai import OpenAI\n",
    "import gradio as gr\n",
    "import pymysql\n",
    "\n",
    "# Load the environment variables from .env file\n",
    "load_dotenv()\n",
    "\n",
    "# Access the API key\n",
    "openai_api_key = os.getenv('OPENAI_API_KEY')\n",
    "client = OpenAI(api_key=openai_api_key)\n",
    "print(client)"
   ]
  },
  {
   "cell_type": "code",
   "execution_count": 7,
   "metadata": {},
   "outputs": [
    {
     "name": "stdout",
     "output_type": "stream",
     "text": [
      "Name: openai\n",
      "Version: 1.64.0\n",
      "Summary: The official Python library for the openai API\n",
      "Home-page: \n",
      "Author: \n",
      "Author-email: OpenAI <support@openai.com>\n",
      "License: \n",
      "Location: c:\\users\\user\\anaconda3\\envs\\web_scraping\\lib\\site-packages\n",
      "Requires: anyio, distro, httpx, jiter, pydantic, sniffio, tqdm, typing-extensions\n",
      "Required-by: \n",
      "Note: you may need to restart the kernel to use updated packages.\n"
     ]
    }
   ],
   "source": [
    "pip show OpenAI"
   ]
  },
  {
   "cell_type": "markdown",
   "metadata": {},
   "source": [
    "\n",
    "### 執行  pip install openai -q 出現以下提示：\n",
    "You tried to access openai.ChatCompletion, but this is no longer supported in openai>=1.0.0 - see the README at https://github.com/openai/openai-python for the API.\n",
    "\n",
    "You can run `openai migrate` to automatically upgrade your codebase to use the 1.0.0 interface.\n",
    "\n",
    "Alternatively, you can pin your installation to the old version, e.g. `pip install openai==0.28`\n",
    "\n",
    "A detailed migration guide is available here: https://github.com/openai/openai-python/discussions/742"
   ]
  },
  {
   "cell_type": "code",
   "execution_count": 2,
   "metadata": {},
   "outputs": [
    {
     "name": "stdout",
     "output_type": "stream",
     "text": [
      "Requirement already satisfied: openai==0.28 in c:\\users\\user\\anaconda3\\envs\\web_scraping\\lib\\site-packages (0.28.0)\n",
      "Requirement already satisfied: requests>=2.20 in c:\\users\\user\\anaconda3\\envs\\web_scraping\\lib\\site-packages (from openai==0.28) (2.32.3)\n",
      "Requirement already satisfied: tqdm in c:\\users\\user\\anaconda3\\envs\\web_scraping\\lib\\site-packages (from openai==0.28) (4.66.5)\n",
      "Requirement already satisfied: aiohttp in c:\\users\\user\\anaconda3\\envs\\web_scraping\\lib\\site-packages (from openai==0.28) (3.10.3)\n",
      "Requirement already satisfied: charset-normalizer<4,>=2 in c:\\users\\user\\anaconda3\\envs\\web_scraping\\lib\\site-packages (from requests>=2.20->openai==0.28) (2.0.4)\n",
      "Requirement already satisfied: idna<4,>=2.5 in c:\\users\\user\\anaconda3\\envs\\web_scraping\\lib\\site-packages (from requests>=2.20->openai==0.28) (3.7)\n",
      "Requirement already satisfied: urllib3<3,>=1.21.1 in c:\\users\\user\\anaconda3\\envs\\web_scraping\\lib\\site-packages (from requests>=2.20->openai==0.28) (2.2.2)\n",
      "Requirement already satisfied: certifi>=2017.4.17 in c:\\users\\user\\anaconda3\\envs\\web_scraping\\lib\\site-packages (from requests>=2.20->openai==0.28) (2024.8.30)\n",
      "Requirement already satisfied: aiohappyeyeballs>=2.3.0 in c:\\users\\user\\anaconda3\\envs\\web_scraping\\lib\\site-packages (from aiohttp->openai==0.28) (2.4.0)\n",
      "Requirement already satisfied: aiosignal>=1.1.2 in c:\\users\\user\\anaconda3\\envs\\web_scraping\\lib\\site-packages (from aiohttp->openai==0.28) (1.3.1)\n",
      "Requirement already satisfied: attrs>=17.3.0 in c:\\users\\user\\anaconda3\\envs\\web_scraping\\lib\\site-packages (from aiohttp->openai==0.28) (23.2.0)\n",
      "Requirement already satisfied: frozenlist>=1.1.1 in c:\\users\\user\\anaconda3\\envs\\web_scraping\\lib\\site-packages (from aiohttp->openai==0.28) (1.4.1)\n",
      "Requirement already satisfied: multidict<7.0,>=4.5 in c:\\users\\user\\anaconda3\\envs\\web_scraping\\lib\\site-packages (from aiohttp->openai==0.28) (6.0.5)\n",
      "Requirement already satisfied: yarl<2.0,>=1.0 in c:\\users\\user\\anaconda3\\envs\\web_scraping\\lib\\site-packages (from aiohttp->openai==0.28) (1.9.4)\n",
      "Requirement already satisfied: async-timeout<5.0,>=4.0 in c:\\users\\user\\anaconda3\\envs\\web_scraping\\lib\\site-packages (from aiohttp->openai==0.28) (4.0.3)\n",
      "Requirement already satisfied: colorama in c:\\users\\user\\anaconda3\\envs\\web_scraping\\lib\\site-packages (from tqdm->openai==0.28) (0.4.6)\n"
     ]
    }
   ],
   "source": [
    "# !pip install openai -q\n",
    "!pip install openai==0.28\n",
    "!pip install gradio -q"
   ]
  },
  {
   "cell_type": "code",
   "execution_count": 12,
   "metadata": {},
   "outputs": [],
   "source": [
    "# 系統提示詞\n",
    "SYSTEM_PROMPT = \"\"\"你是台北市立圖書館的 AI 客服，擅長根據資料庫內容提供正確資訊並進行友善的互動回應。\n",
    "你的任務是：\n",
    "* 根據用戶問題，從資料庫中檢索出最相關的內容\n",
    "* 優先參考資料庫檢索結果進行回答，並在回答中體現檢索內容\n",
    "* 如果資料庫沒有直接相關答案，根據語義相似度結果提供延伸建議或可能的資訊\n",
    "* 結合多筆資料庫結果，整理出完整、簡明且友善的答案\n",
    "\n",
    "回答時請遵循：\n",
    "- 使用正體中文，語氣專業且親切\n",
    "- 先提供直接答案，再補充說明（如有延伸建議）\n",
    "- 確保信息準確性，避免猜測\n",
    "- 在資料庫檢索結果中，標註資料來源或關鍵資訊\n",
    "- 若無相關結果，說明資料庫查詢無結果並提供其他建議\n",
    "\n",
    "範例回答格式：\n",
    "1. **答案：** 提供資料庫中最相關的答案\n",
    "2. **補充說明：** 根據資料庫內容延伸的背景資訊\n",
    "3. **建議：** 若無資料庫結果，提出可能的查詢方向或其他可參考資源\"\"\"\n",
    "\n",
    "desc = \"直接輸入您的問題或關鍵詞 \" \\\n",
    "       \"AI 助手會根據圖書館問答資料庫回復相關服務與政策。\" \n",
    "\n",
    "article = \"<h1> 圖書館客服問答系統 </h1>\"\\\n",
    "          \"<h3>使用說明:</h3> \" \\\n",
    "          \"<ul><li>直接輸入您的問題或關鍵詞</li>\" \\\n",
    "          \"<li>AI 助手會根據圖書館資料庫提供專業解答</li></ul>\""
   ]
  },
  {
   "cell_type": "code",
   "execution_count": 13,
   "metadata": {},
   "outputs": [],
   "source": [
    "# 連接到 MySQL 資料庫\n",
    "def connect_db():\n",
    "    return pymysql.connect(\n",
    "        host=os.getenv('DB_HOST'),\n",
    "        user=os.getenv('DB_USER'),\n",
    "        password=os.getenv('DB_PASSWORD'),\n",
    "        database=os.getenv('DB_NAME'),\n",
    "        charset=os.getenv('DB_CHARSET'),\n",
    "        cursorclass=pymysql.cursors.DictCursor\n",
    "    )"
   ]
  },
  {
   "cell_type": "code",
   "execution_count": 14,
   "metadata": {},
   "outputs": [],
   "source": [
    "def handle_user_query(user_query):\n",
    "    db_results = []  \n",
    "    try:\n",
    "        connection = connect_db()\n",
    "        with connection.cursor() as cursor:\n",
    "            # 使用參數化查詢防止 SQL 注入\n",
    "            query = \"SELECT question, answer FROM faq_table WHERE question LIKE %s\"\n",
    "            cursor.execute(query, (f\"%{user_query}%\",))\n",
    "            db_results = cursor.fetchall()\n",
    "    except Exception as e:\n",
    "        print(f\"資料庫查詢錯誤：{str(e)}\")\n",
    "        db_results = [{\"question\": \"資料庫錯誤\", \"answer\": \"無法檢索數據，請稍後再試。\"}]\n",
    "    finally:\n",
    "        if connection:\n",
    "            connection.close()\n",
    "    return db_results"
   ]
  },
  {
   "cell_type": "code",
   "execution_count": 19,
   "metadata": {},
   "outputs": [],
   "source": [
    "def get_ai_response(user_query, db_results):\n",
    "    try:\n",
    "        # 初始化 db_results 為空列表（如果未提供）\n",
    "        if db_results is None:\n",
    "            db_results = []\n",
    "\n",
    "        # 將 db_results 轉換為字符串格式\n",
    "        context = f\"用戶問題：{user_query}\\n\\n相關的資料庫結果：\\n\"\n",
    "        \n",
    "        if isinstance(db_results, list):\n",
    "            for result in db_results:\n",
    "                # 檢查 result 是否為元組\n",
    "                if isinstance(result, tuple):\n",
    "                    # 假設元組中的順序是 (question, answer)\n",
    "                    question, answer = result\n",
    "                    context += f\"問：{question}\\n\"\n",
    "                    context += f\"答：{answer}\\n\\n\"\n",
    "                # 檢查 result 是否為字典\n",
    "                elif isinstance(result, dict):\n",
    "                    context += f\"問：{result.get('question', '')}\\n\"\n",
    "                    context += f\"答：{result.get('answer', '')}\\n\\n\"\n",
    "                else:\n",
    "                    context += str(result) + \"\\n\"\n",
    "        else:\n",
    "            context += str(db_results)\n",
    "\n",
    "        messages = [\n",
    "            {\"role\": \"system\", \"content\": SYSTEM_PROMPT},\n",
    "            {\"role\": \"user\", \"content\": context}\n",
    "        ]\n",
    "\n",
    "        # 使用新版 API 調用方式\n",
    "        response = client.chat.completions.create(\n",
    "            model=\"gpt-3.5-turbo\", \n",
    "            messages=messages,\n",
    "            temperature=0.7,\n",
    "            stream=True\n",
    "        )\n",
    "\n",
    "        full_response = \"\"\n",
    "        for chunk in response:\n",
    "            content = getattr(chunk.choices[0].delta, 'content', '')\n",
    "            if content:\n",
    "                full_response += content\n",
    "\n",
    "        # 清理並返回回應\n",
    "        return full_response.strip() if full_response else \"AI 回應生成失敗，請再試一次。\"\n",
    "\n",
    "    except Exception as e:\n",
    "        print(f\"AI 處理時發生錯誤：{str(e)}\")\n",
    "        print(f\"錯誤類型：{type(e)}\")\n",
    "        print(f\"db_results 類型：{type(db_results)}\")\n",
    "        if isinstance(db_results, list):\n",
    "            print(f\"第一個結果類型：{type(db_results[0])}\")\n",
    "        import traceback\n",
    "        print(f\"詳細錯誤：\\n{traceback.format_exc()}\")\n",
    "        return f\"AI 回應生成失敗：{str(e)}\""
   ]
  },
  {
   "cell_type": "code",
   "execution_count": 20,
   "metadata": {},
   "outputs": [
    {
     "name": "stderr",
     "output_type": "stream",
     "text": [
      "c:\\Users\\User\\anaconda3\\envs\\web_scraping\\lib\\site-packages\\gradio\\components\\chatbot.py:231: UserWarning: The 'tuples' format for chatbot messages is deprecated and will be removed in a future version of Gradio. Please set type='messages' instead, which uses openai-style 'role' and 'content' keys.\n",
      "  warnings.warn(\n"
     ]
    },
    {
     "name": "stdout",
     "output_type": "stream",
     "text": [
      "* Running on local URL:  http://127.0.0.1:7860\n",
      "\n",
      "To create a public link, set `share=True` in `launch()`.\n"
     ]
    },
    {
     "data": {
      "text/html": [
       "<div><iframe src=\"http://127.0.0.1:7860/\" width=\"100%\" height=\"500\" allow=\"autoplay; camera; microphone; clipboard-read; clipboard-write;\" frameborder=\"0\" allowfullscreen></iframe></div>"
      ],
      "text/plain": [
       "<IPython.core.display.HTML object>"
      ]
     },
     "metadata": {},
     "output_type": "display_data"
    },
    {
     "name": "stdout",
     "output_type": "stream",
     "text": [
      "Keyboard interruption in main thread... closing server.\n"
     ]
    },
    {
     "data": {
      "text/plain": []
     },
     "execution_count": 20,
     "metadata": {},
     "output_type": "execute_result"
    }
   ],
   "source": [
    "gr.close_all()\n",
    "gr.ChatInterface(get_ai_response, \n",
    "                 theme=\"Origin\",   \n",
    "                 description=desc,\n",
    "                 title=article,).queue().launch(debug=True)"
   ]
  },
  {
   "cell_type": "code",
   "execution_count": 21,
   "metadata": {},
   "outputs": [
    {
     "name": "stderr",
     "output_type": "stream",
     "text": [
      "c:\\Users\\User\\anaconda3\\envs\\web_scraping\\lib\\site-packages\\gradio\\components\\chatbot.py:231: UserWarning: The 'tuples' format for chatbot messages is deprecated and will be removed in a future version of Gradio. Please set type='messages' instead, which uses openai-style 'role' and 'content' keys.\n",
      "  warnings.warn(\n"
     ]
    },
    {
     "name": "stdout",
     "output_type": "stream",
     "text": [
      "* Running on local URL:  http://127.0.0.1:7860\n",
      "\n",
      "To create a public link, set `share=True` in `launch()`.\n"
     ]
    },
    {
     "data": {
      "text/html": [
       "<div><iframe src=\"http://127.0.0.1:7860/\" width=\"100%\" height=\"500\" allow=\"autoplay; camera; microphone; clipboard-read; clipboard-write;\" frameborder=\"0\" allowfullscreen></iframe></div>"
      ],
      "text/plain": [
       "<IPython.core.display.HTML object>"
      ]
     },
     "metadata": {},
     "output_type": "display_data"
    },
    {
     "name": "stdout",
     "output_type": "stream",
     "text": [
      "Keyboard interruption in main thread... closing server.\n"
     ]
    },
    {
     "data": {
      "text/plain": []
     },
     "execution_count": 21,
     "metadata": {},
     "output_type": "execute_result"
    }
   ],
   "source": [
    "# 使用 ChatInterface 創建聊天界面\n",
    "gr.close_all()\n",
    "gr.ChatInterface(\n",
    "    fn=get_ai_response,\n",
    "    theme=\"Soft\",\n",
    "    title=article,\n",
    "    examples=[\n",
    "        \"請問圖書館的開放時間是什麼時候？\",\n",
    "        \"我想了解如何辦理借書證\",\n",
    "        \"兒童區有什麼特別的服務？\",\n",
    "        \"可以介紹一下圖書館的資源嗎？\"]).queue().launch(debug=True)"
   ]
  },
  {
   "cell_type": "code",
   "execution_count": null,
   "metadata": {},
   "outputs": [],
   "source": []
  }
 ],
 "metadata": {
  "kernelspec": {
   "display_name": "Python3@ws",
   "language": "python",
   "name": "ws"
  },
  "language_info": {
   "codemirror_mode": {
    "name": "ipython",
    "version": 3
   },
   "file_extension": ".py",
   "mimetype": "text/x-python",
   "name": "python",
   "nbconvert_exporter": "python",
   "pygments_lexer": "ipython3",
   "version": "3.10.14"
  }
 },
 "nbformat": 4,
 "nbformat_minor": 2
}
